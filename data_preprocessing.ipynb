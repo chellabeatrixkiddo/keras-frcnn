{
 "cells": [
  {
   "cell_type": "code",
   "execution_count": 1,
   "metadata": {},
   "outputs": [],
   "source": [
    "import json\n",
    "import numpy as np\n",
    "import pandas as pd\n",
    "import os\n",
    "from os import path\n",
    "import shutil"
   ]
  },
  {
   "cell_type": "code",
   "execution_count": 2,
   "metadata": {},
   "outputs": [],
   "source": [
    "annos_directory = \"/Users/Admin/Documents/Study/DeepFashion2/train/annos/\"\n",
    "image_directory = \"/Users/Admin/Documents/Study/DeepFashion2/train/image/\""
   ]
  },
  {
   "cell_type": "code",
   "execution_count": 18,
   "metadata": {},
   "outputs": [
    {
     "data": {
      "text/plain": [
       "191961"
      ]
     },
     "execution_count": 18,
     "metadata": {},
     "output_type": "execute_result"
    }
   ],
   "source": [
    "len(os.listdir(annos_directory))\n"
   ]
  },
  {
   "cell_type": "code",
   "execution_count": null,
   "metadata": {},
   "outputs": [],
   "source": [
    "# map the categories to a binary namespace {'top', 'bottom'}\n",
    "'''\n",
    "Top:\n",
    "----\n",
    "short sleeve top - 1\n",
    "long sleeve top - 2\n",
    "short sleeve outwear - 3\n",
    "long sleeve outwear - 4\n",
    "vest - 5\n",
    "\n",
    "Bottom:\n",
    "-------\n",
    "shorts - 7\n",
    "trousers - 8\n",
    "skirts - 9\n",
    "\n",
    "'''"
   ]
  },
  {
   "cell_type": "code",
   "execution_count": 24,
   "metadata": {
    "scrolled": true
   },
   "outputs": [
    {
     "data": {
      "text/plain": [
       "165718"
      ]
     },
     "execution_count": 24,
     "metadata": {},
     "output_type": "execute_result"
    }
   ],
   "source": [
    "labeled_data = pd.DataFrame(columns=['image_name', 'category_id', 'category_name', 'bounding_box'])\n",
    "\n",
    "# from every json dict, remove source and pair_id elements. The remaining dict items are the n item components\n",
    "\n",
    "for filename in os.listdir(annos_directory):\n",
    "    with(open(annos_directory+filename, \"r\")) as f:\n",
    "        data = json.load(f)\n",
    "        if(data['source'] != 'shop'):\n",
    "            continue\n",
    "        del data['source']\n",
    "        del data['pair_id']\n",
    "        if(len(data.items()) == 2):\n",
    "            categoryids = []\n",
    "            temp_df = pd.DataFrame(columns=['image_name', 'category_id', 'category_name', 'bounding_box'])\n",
    "            for k,v in data.items():\n",
    "                image_name = filename.split('.')[0]+'.jpg'\n",
    "                category_id = v['category_id']\n",
    "                category_name = v['category_name']\n",
    "                bounding_box = v['bounding_box']\n",
    "                if(category_id in [1,2,3,4,5]):\n",
    "                    category_id = 1\n",
    "                elif(category_id in [7,8,9]):\n",
    "                    category_id = 2\n",
    "                categoryids.append(category_id)\n",
    "                d = {'image_name':image_name, 'category_id':category_id, 'category_name':category_name, 'bounding_box':bounding_box}\n",
    "                temp_df = temp_df.append(pd.Series(d), ignore_index=True)\n",
    "            if(1 in categoryids and 2 in categoryids): # contains both top and bottom\n",
    "                labeled_data = labeled_data.append(temp_df, ignore_index=True)\n",
    "                \n",
    "                \n",
    "                \n",
    "len(labeled_data)            \n",
    "#labeled_data.to_csv(\"/Users/Admin/Documents/Study/DeepFashion2/final/annos.csv\", index=False)\n",
    "            \n"
   ]
  },
  {
   "cell_type": "code",
   "execution_count": 26,
   "metadata": {},
   "outputs": [
    {
     "data": {
      "text/plain": [
       "list"
      ]
     },
     "execution_count": 26,
     "metadata": {},
     "output_type": "execute_result"
    }
   ],
   "source": [
    "# Change category_name according to category_id\n",
    "# Make bounding box list as separate columns\n",
    "\n",
    "labeled_data.loc[labeled_data['category_id'] == 1, 'category_name'] = 'Top'\n",
    "labeled_data.loc[labeled_data['category_id'] == 2, 'category_name'] = 'Bottom'\n",
    "\n"
   ]
  },
  {
   "cell_type": "code",
   "execution_count": 38,
   "metadata": {},
   "outputs": [
    {
     "data": {
      "text/html": [
       "<div>\n",
       "<style scoped>\n",
       "    .dataframe tbody tr th:only-of-type {\n",
       "        vertical-align: middle;\n",
       "    }\n",
       "\n",
       "    .dataframe tbody tr th {\n",
       "        vertical-align: top;\n",
       "    }\n",
       "\n",
       "    .dataframe thead th {\n",
       "        text-align: right;\n",
       "    }\n",
       "</style>\n",
       "<table border=\"1\" class=\"dataframe\">\n",
       "  <thead>\n",
       "    <tr style=\"text-align: right;\">\n",
       "      <th></th>\n",
       "      <th>image_name</th>\n",
       "      <th>category_id</th>\n",
       "      <th>category_name</th>\n",
       "      <th>bounding_box</th>\n",
       "      <th>xmin</th>\n",
       "      <th>ymin</th>\n",
       "      <th>xmax</th>\n",
       "      <th>ymax</th>\n",
       "    </tr>\n",
       "  </thead>\n",
       "  <tbody>\n",
       "    <tr>\n",
       "      <th>0</th>\n",
       "      <td>000011.jpg</td>\n",
       "      <td>2</td>\n",
       "      <td>Bottom</td>\n",
       "      <td>[284, 548, 458, 851]</td>\n",
       "      <td>284</td>\n",
       "      <td>548</td>\n",
       "      <td>458</td>\n",
       "      <td>851</td>\n",
       "    </tr>\n",
       "    <tr>\n",
       "      <th>1</th>\n",
       "      <td>000011.jpg</td>\n",
       "      <td>1</td>\n",
       "      <td>Top</td>\n",
       "      <td>[256, 393, 369, 608]</td>\n",
       "      <td>256</td>\n",
       "      <td>393</td>\n",
       "      <td>369</td>\n",
       "      <td>608</td>\n",
       "    </tr>\n",
       "    <tr>\n",
       "      <th>2</th>\n",
       "      <td>000012.jpg</td>\n",
       "      <td>2</td>\n",
       "      <td>Bottom</td>\n",
       "      <td>[266, 380, 467, 511]</td>\n",
       "      <td>266</td>\n",
       "      <td>380</td>\n",
       "      <td>467</td>\n",
       "      <td>511</td>\n",
       "    </tr>\n",
       "    <tr>\n",
       "      <th>3</th>\n",
       "      <td>000012.jpg</td>\n",
       "      <td>1</td>\n",
       "      <td>Top</td>\n",
       "      <td>[228, 232, 500, 493]</td>\n",
       "      <td>228</td>\n",
       "      <td>232</td>\n",
       "      <td>500</td>\n",
       "      <td>493</td>\n",
       "    </tr>\n",
       "    <tr>\n",
       "      <th>4</th>\n",
       "      <td>000013.jpg</td>\n",
       "      <td>2</td>\n",
       "      <td>Bottom</td>\n",
       "      <td>[32, 481, 344, 701]</td>\n",
       "      <td>32</td>\n",
       "      <td>481</td>\n",
       "      <td>344</td>\n",
       "      <td>701</td>\n",
       "    </tr>\n",
       "  </tbody>\n",
       "</table>\n",
       "</div>"
      ],
      "text/plain": [
       "   image_name category_id category_name          bounding_box  xmin  ymin  \\\n",
       "0  000011.jpg           2        Bottom  [284, 548, 458, 851]   284   548   \n",
       "1  000011.jpg           1           Top  [256, 393, 369, 608]   256   393   \n",
       "2  000012.jpg           2        Bottom  [266, 380, 467, 511]   266   380   \n",
       "3  000012.jpg           1           Top  [228, 232, 500, 493]   228   232   \n",
       "4  000013.jpg           2        Bottom   [32, 481, 344, 701]    32   481   \n",
       "\n",
       "   xmax  ymax  \n",
       "0   458   851  \n",
       "1   369   608  \n",
       "2   467   511  \n",
       "3   500   493  \n",
       "4   344   701  "
      ]
     },
     "execution_count": 38,
     "metadata": {},
     "output_type": "execute_result"
    }
   ],
   "source": [
    "labeled_data[['xmin','ymin', 'xmax', 'ymax']] = pd.DataFrame(labeled_data.bounding_box.values.tolist(), index= labeled_data.index)\n",
    "\n",
    "labeled_data.head()"
   ]
  },
  {
   "cell_type": "code",
   "execution_count": 39,
   "metadata": {},
   "outputs": [
    {
     "data": {
      "text/plain": [
       "82859"
      ]
     },
     "execution_count": 39,
     "metadata": {},
     "output_type": "execute_result"
    }
   ],
   "source": [
    "# get the image file names\n",
    "len(set(labeled_data['image_name'].tolist()))"
   ]
  },
  {
   "cell_type": "code",
   "execution_count": 40,
   "metadata": {},
   "outputs": [
    {
     "data": {
      "text/plain": [
       "32980"
      ]
     },
     "execution_count": 40,
     "metadata": {},
     "output_type": "execute_result"
    }
   ],
   "source": [
    "# get those filenames for which the images are present\n",
    "\n",
    "image_directory = \"/Users/Admin/Documents/Study/DeepFashion2/train/image/\"\n",
    "final_images = []\n",
    "\n",
    "for filename in set(labeled_data['image_name'].tolist()):\n",
    "    source = image_directory+filename\n",
    "    if(os.path.isfile(source)):\n",
    "        final_images.append(filename)\n",
    "        \n",
    "len(final_images)"
   ]
  },
  {
   "cell_type": "code",
   "execution_count": 41,
   "metadata": {},
   "outputs": [
    {
     "data": {
      "text/plain": [
       "1536"
      ]
     },
     "execution_count": 41,
     "metadata": {},
     "output_type": "execute_result"
    }
   ],
   "source": [
    "# pick the top 1536 images\n",
    "final_images_full = final_images[:1536]\n",
    "\n",
    "len(final_images_full)"
   ]
  },
  {
   "cell_type": "code",
   "execution_count": 45,
   "metadata": {},
   "outputs": [],
   "source": [
    "# move the corresponding image files to a separate directory\n",
    "\n",
    "image_directory = \"/Users/Admin/Documents/Study/DeepFashion2/train/image/\"\n",
    "destination_path = \"/Users/Admin/Documents/Study/DeepFashion2/final/images/\"\n",
    "if not os.path.exists(destination_path):\n",
    "    os.makedirs(destination_path)\n",
    "\n",
    "for filename in final_images_full:\n",
    "    source = image_directory+filename\n",
    "    shutil.copy(source, destination_path)\n",
    "    "
   ]
  },
  {
   "cell_type": "code",
   "execution_count": 58,
   "metadata": {},
   "outputs": [
    {
     "data": {
      "text/plain": [
       "3072"
      ]
     },
     "execution_count": 58,
     "metadata": {},
     "output_type": "execute_result"
    }
   ],
   "source": [
    "# subset the dataframe to get the annotations for the 1536 images\n",
    "\n",
    "labeled_data_subset = labeled_data\n",
    "\n",
    "labeled_data_final = labeled_data_subset[labeled_data_subset['image_name'].isin(final_images_full)]\n",
    "\n",
    "len(labeled_data_final)"
   ]
  },
  {
   "cell_type": "code",
   "execution_count": 59,
   "metadata": {},
   "outputs": [
    {
     "data": {
      "text/html": [
       "<div>\n",
       "<style scoped>\n",
       "    .dataframe tbody tr th:only-of-type {\n",
       "        vertical-align: middle;\n",
       "    }\n",
       "\n",
       "    .dataframe tbody tr th {\n",
       "        vertical-align: top;\n",
       "    }\n",
       "\n",
       "    .dataframe thead th {\n",
       "        text-align: right;\n",
       "    }\n",
       "</style>\n",
       "<table border=\"1\" class=\"dataframe\">\n",
       "  <thead>\n",
       "    <tr style=\"text-align: right;\">\n",
       "      <th></th>\n",
       "      <th>image_name</th>\n",
       "      <th>category_id</th>\n",
       "      <th>category_name</th>\n",
       "      <th>bounding_box</th>\n",
       "      <th>xmin</th>\n",
       "      <th>ymin</th>\n",
       "      <th>xmax</th>\n",
       "      <th>ymax</th>\n",
       "    </tr>\n",
       "  </thead>\n",
       "  <tbody>\n",
       "    <tr>\n",
       "      <th>90</th>\n",
       "      <td>000087.jpg</td>\n",
       "      <td>2</td>\n",
       "      <td>Bottom</td>\n",
       "      <td>[232, 412, 513, 696]</td>\n",
       "      <td>232</td>\n",
       "      <td>412</td>\n",
       "      <td>513</td>\n",
       "      <td>696</td>\n",
       "    </tr>\n",
       "    <tr>\n",
       "      <th>91</th>\n",
       "      <td>000087.jpg</td>\n",
       "      <td>1</td>\n",
       "      <td>Top</td>\n",
       "      <td>[176, 2, 601, 489]</td>\n",
       "      <td>176</td>\n",
       "      <td>2</td>\n",
       "      <td>601</td>\n",
       "      <td>489</td>\n",
       "    </tr>\n",
       "    <tr>\n",
       "      <th>262</th>\n",
       "      <td>000374.jpg</td>\n",
       "      <td>1</td>\n",
       "      <td>Top</td>\n",
       "      <td>[249, 186, 496, 482]</td>\n",
       "      <td>249</td>\n",
       "      <td>186</td>\n",
       "      <td>496</td>\n",
       "      <td>482</td>\n",
       "    </tr>\n",
       "    <tr>\n",
       "      <th>263</th>\n",
       "      <td>000374.jpg</td>\n",
       "      <td>2</td>\n",
       "      <td>Bottom</td>\n",
       "      <td>[171, 407, 417, 833]</td>\n",
       "      <td>171</td>\n",
       "      <td>407</td>\n",
       "      <td>417</td>\n",
       "      <td>833</td>\n",
       "    </tr>\n",
       "    <tr>\n",
       "      <th>304</th>\n",
       "      <td>000402.jpg</td>\n",
       "      <td>1</td>\n",
       "      <td>Top</td>\n",
       "      <td>[200, 0, 440, 84]</td>\n",
       "      <td>200</td>\n",
       "      <td>0</td>\n",
       "      <td>440</td>\n",
       "      <td>84</td>\n",
       "    </tr>\n",
       "  </tbody>\n",
       "</table>\n",
       "</div>"
      ],
      "text/plain": [
       "     image_name category_id category_name          bounding_box  xmin  ymin  \\\n",
       "90   000087.jpg           2        Bottom  [232, 412, 513, 696]   232   412   \n",
       "91   000087.jpg           1           Top    [176, 2, 601, 489]   176     2   \n",
       "262  000374.jpg           1           Top  [249, 186, 496, 482]   249   186   \n",
       "263  000374.jpg           2        Bottom  [171, 407, 417, 833]   171   407   \n",
       "304  000402.jpg           1           Top     [200, 0, 440, 84]   200     0   \n",
       "\n",
       "     xmax  ymax  \n",
       "90    513   696  \n",
       "91    601   489  \n",
       "262   496   482  \n",
       "263   417   833  \n",
       "304   440    84  "
      ]
     },
     "execution_count": 59,
     "metadata": {},
     "output_type": "execute_result"
    }
   ],
   "source": [
    "labeled_data_final.head()"
   ]
  },
  {
   "cell_type": "code",
   "execution_count": 60,
   "metadata": {},
   "outputs": [
    {
     "data": {
      "text/html": [
       "<div>\n",
       "<style scoped>\n",
       "    .dataframe tbody tr th:only-of-type {\n",
       "        vertical-align: middle;\n",
       "    }\n",
       "\n",
       "    .dataframe tbody tr th {\n",
       "        vertical-align: top;\n",
       "    }\n",
       "\n",
       "    .dataframe thead th {\n",
       "        text-align: right;\n",
       "    }\n",
       "</style>\n",
       "<table border=\"1\" class=\"dataframe\">\n",
       "  <thead>\n",
       "    <tr style=\"text-align: right;\">\n",
       "      <th></th>\n",
       "      <th>image_name</th>\n",
       "      <th>category_name</th>\n",
       "      <th>xmin</th>\n",
       "      <th>ymin</th>\n",
       "      <th>xmax</th>\n",
       "      <th>ymax</th>\n",
       "    </tr>\n",
       "  </thead>\n",
       "  <tbody>\n",
       "    <tr>\n",
       "      <th>90</th>\n",
       "      <td>000087.jpg</td>\n",
       "      <td>Bottom</td>\n",
       "      <td>232</td>\n",
       "      <td>412</td>\n",
       "      <td>513</td>\n",
       "      <td>696</td>\n",
       "    </tr>\n",
       "    <tr>\n",
       "      <th>91</th>\n",
       "      <td>000087.jpg</td>\n",
       "      <td>Top</td>\n",
       "      <td>176</td>\n",
       "      <td>2</td>\n",
       "      <td>601</td>\n",
       "      <td>489</td>\n",
       "    </tr>\n",
       "    <tr>\n",
       "      <th>262</th>\n",
       "      <td>000374.jpg</td>\n",
       "      <td>Top</td>\n",
       "      <td>249</td>\n",
       "      <td>186</td>\n",
       "      <td>496</td>\n",
       "      <td>482</td>\n",
       "    </tr>\n",
       "    <tr>\n",
       "      <th>263</th>\n",
       "      <td>000374.jpg</td>\n",
       "      <td>Bottom</td>\n",
       "      <td>171</td>\n",
       "      <td>407</td>\n",
       "      <td>417</td>\n",
       "      <td>833</td>\n",
       "    </tr>\n",
       "    <tr>\n",
       "      <th>304</th>\n",
       "      <td>000402.jpg</td>\n",
       "      <td>Top</td>\n",
       "      <td>200</td>\n",
       "      <td>0</td>\n",
       "      <td>440</td>\n",
       "      <td>84</td>\n",
       "    </tr>\n",
       "  </tbody>\n",
       "</table>\n",
       "</div>"
      ],
      "text/plain": [
       "     image_name category_name  xmin  ymin  xmax  ymax\n",
       "90   000087.jpg        Bottom   232   412   513   696\n",
       "91   000087.jpg           Top   176     2   601   489\n",
       "262  000374.jpg           Top   249   186   496   482\n",
       "263  000374.jpg        Bottom   171   407   417   833\n",
       "304  000402.jpg           Top   200     0   440    84"
      ]
     },
     "execution_count": 60,
     "metadata": {},
     "output_type": "execute_result"
    }
   ],
   "source": [
    "# add filepath to the image_name and drop bounding_box, category_id columns\n",
    "\n",
    "#labeled_data_final['image_name'] = labeled_data_final['image_name'].apply(lambda x: \"/Users/Admin/Documents/Study/DeepFashion2/final/images/\"+x)\n",
    "\n",
    "labeled_data_final = labeled_data_final.drop(['category_id', 'bounding_box'], axis=1)\n",
    "\n",
    "labeled_data_final.head()\n"
   ]
  },
  {
   "cell_type": "code",
   "execution_count": 61,
   "metadata": {},
   "outputs": [],
   "source": [
    "\n",
    "labeled_data_final.to_csv(\"/Users/Admin/Documents/Study/DeepFashion2/final/annotations.csv\", index=False)\n"
   ]
  },
  {
   "cell_type": "code",
   "execution_count": 62,
   "metadata": {},
   "outputs": [
    {
     "data": {
      "text/plain": [
       "(1280, 256)"
      ]
     },
     "execution_count": 62,
     "metadata": {},
     "output_type": "execute_result"
    }
   ],
   "source": [
    "## Split 1536 images to train, test\n",
    "# Select the first 1280 images as train\n",
    "train = final_images_full[:1280]\n",
    "\n",
    "test = final_images_full[1280:]\n",
    "\n",
    "len(train), len(test)"
   ]
  },
  {
   "cell_type": "code",
   "execution_count": 82,
   "metadata": {},
   "outputs": [],
   "source": [
    "# move the corresponding image files to separate train and test directories\n",
    "\n",
    "image_directory = \"/Users/Admin/Documents/Study/DeepFashion2/final/images/\"\n",
    "destination_path_train = \"/Users/Admin/Documents/Study/DeepFashion2/final/images/train/\"\n",
    "destination_path_test = \"/Users/Admin/Documents/Study/DeepFashion2/final/images/test/\"\n",
    "\n",
    "if not os.path.exists(destination_path_train):\n",
    "    os.makedirs(destination_path_train)\n",
    "\n",
    "for filename in train:\n",
    "    source = image_directory+filename\n",
    "    shutil.move(source, destination_path_train)\n",
    "    \n",
    "if not os.path.exists(destination_path_test):\n",
    "    os.makedirs(destination_path_test)\n",
    "    \n",
    "for filename in test:\n",
    "    source = image_directory+filename\n",
    "    shutil.move(source, destination_path_test)\n",
    "    \n"
   ]
  },
  {
   "cell_type": "code",
   "execution_count": 63,
   "metadata": {},
   "outputs": [],
   "source": [
    "train_data = labeled_data_final[labeled_data_final['image_name'].isin(train)]\n",
    "test_data = labeled_data_final[labeled_data_final['image_name'].isin(test)]\n"
   ]
  },
  {
   "cell_type": "code",
   "execution_count": 64,
   "metadata": {},
   "outputs": [
    {
     "data": {
      "text/html": [
       "<div>\n",
       "<style scoped>\n",
       "    .dataframe tbody tr th:only-of-type {\n",
       "        vertical-align: middle;\n",
       "    }\n",
       "\n",
       "    .dataframe tbody tr th {\n",
       "        vertical-align: top;\n",
       "    }\n",
       "\n",
       "    .dataframe thead th {\n",
       "        text-align: right;\n",
       "    }\n",
       "</style>\n",
       "<table border=\"1\" class=\"dataframe\">\n",
       "  <thead>\n",
       "    <tr style=\"text-align: right;\">\n",
       "      <th></th>\n",
       "      <th>image_name</th>\n",
       "      <th>category_name</th>\n",
       "      <th>xmin</th>\n",
       "      <th>ymin</th>\n",
       "      <th>xmax</th>\n",
       "      <th>ymax</th>\n",
       "    </tr>\n",
       "  </thead>\n",
       "  <tbody>\n",
       "    <tr>\n",
       "      <th>262</th>\n",
       "      <td>000374.jpg</td>\n",
       "      <td>Top</td>\n",
       "      <td>249</td>\n",
       "      <td>186</td>\n",
       "      <td>496</td>\n",
       "      <td>482</td>\n",
       "    </tr>\n",
       "    <tr>\n",
       "      <th>263</th>\n",
       "      <td>000374.jpg</td>\n",
       "      <td>Bottom</td>\n",
       "      <td>171</td>\n",
       "      <td>407</td>\n",
       "      <td>417</td>\n",
       "      <td>833</td>\n",
       "    </tr>\n",
       "    <tr>\n",
       "      <th>304</th>\n",
       "      <td>000402.jpg</td>\n",
       "      <td>Top</td>\n",
       "      <td>200</td>\n",
       "      <td>0</td>\n",
       "      <td>440</td>\n",
       "      <td>84</td>\n",
       "    </tr>\n",
       "    <tr>\n",
       "      <th>305</th>\n",
       "      <td>000402.jpg</td>\n",
       "      <td>Bottom</td>\n",
       "      <td>186</td>\n",
       "      <td>27</td>\n",
       "      <td>464</td>\n",
       "      <td>432</td>\n",
       "    </tr>\n",
       "    <tr>\n",
       "      <th>434</th>\n",
       "      <td>000549.jpg</td>\n",
       "      <td>Top</td>\n",
       "      <td>162</td>\n",
       "      <td>0</td>\n",
       "      <td>477</td>\n",
       "      <td>156</td>\n",
       "    </tr>\n",
       "  </tbody>\n",
       "</table>\n",
       "</div>"
      ],
      "text/plain": [
       "     image_name category_name  xmin  ymin  xmax  ymax\n",
       "262  000374.jpg           Top   249   186   496   482\n",
       "263  000374.jpg        Bottom   171   407   417   833\n",
       "304  000402.jpg           Top   200     0   440    84\n",
       "305  000402.jpg        Bottom   186    27   464   432\n",
       "434  000549.jpg           Top   162     0   477   156"
      ]
     },
     "execution_count": 64,
     "metadata": {},
     "output_type": "execute_result"
    }
   ],
   "source": [
    "train_data.head()"
   ]
  },
  {
   "cell_type": "code",
   "execution_count": 65,
   "metadata": {},
   "outputs": [
    {
     "data": {
      "text/html": [
       "<div>\n",
       "<style scoped>\n",
       "    .dataframe tbody tr th:only-of-type {\n",
       "        vertical-align: middle;\n",
       "    }\n",
       "\n",
       "    .dataframe tbody tr th {\n",
       "        vertical-align: top;\n",
       "    }\n",
       "\n",
       "    .dataframe thead th {\n",
       "        text-align: right;\n",
       "    }\n",
       "</style>\n",
       "<table border=\"1\" class=\"dataframe\">\n",
       "  <thead>\n",
       "    <tr style=\"text-align: right;\">\n",
       "      <th></th>\n",
       "      <th>image_name</th>\n",
       "      <th>category_name</th>\n",
       "      <th>xmin</th>\n",
       "      <th>ymin</th>\n",
       "      <th>xmax</th>\n",
       "      <th>ymax</th>\n",
       "    </tr>\n",
       "  </thead>\n",
       "  <tbody>\n",
       "    <tr>\n",
       "      <th>90</th>\n",
       "      <td>000087.jpg</td>\n",
       "      <td>Bottom</td>\n",
       "      <td>232</td>\n",
       "      <td>412</td>\n",
       "      <td>513</td>\n",
       "      <td>696</td>\n",
       "    </tr>\n",
       "    <tr>\n",
       "      <th>91</th>\n",
       "      <td>000087.jpg</td>\n",
       "      <td>Top</td>\n",
       "      <td>176</td>\n",
       "      <td>2</td>\n",
       "      <td>601</td>\n",
       "      <td>489</td>\n",
       "    </tr>\n",
       "    <tr>\n",
       "      <th>872</th>\n",
       "      <td>001017.jpg</td>\n",
       "      <td>Bottom</td>\n",
       "      <td>12</td>\n",
       "      <td>802</td>\n",
       "      <td>557</td>\n",
       "      <td>1319</td>\n",
       "    </tr>\n",
       "    <tr>\n",
       "      <th>873</th>\n",
       "      <td>001017.jpg</td>\n",
       "      <td>Top</td>\n",
       "      <td>259</td>\n",
       "      <td>440</td>\n",
       "      <td>792</td>\n",
       "      <td>925</td>\n",
       "    </tr>\n",
       "    <tr>\n",
       "      <th>1072</th>\n",
       "      <td>001298.jpg</td>\n",
       "      <td>Top</td>\n",
       "      <td>235</td>\n",
       "      <td>245</td>\n",
       "      <td>431</td>\n",
       "      <td>499</td>\n",
       "    </tr>\n",
       "  </tbody>\n",
       "</table>\n",
       "</div>"
      ],
      "text/plain": [
       "      image_name category_name  xmin  ymin  xmax  ymax\n",
       "90    000087.jpg        Bottom   232   412   513   696\n",
       "91    000087.jpg           Top   176     2   601   489\n",
       "872   001017.jpg        Bottom    12   802   557  1319\n",
       "873   001017.jpg           Top   259   440   792   925\n",
       "1072  001298.jpg           Top   235   245   431   499"
      ]
     },
     "execution_count": 65,
     "metadata": {},
     "output_type": "execute_result"
    }
   ],
   "source": [
    "test_data.head()"
   ]
  },
  {
   "cell_type": "code",
   "execution_count": null,
   "metadata": {},
   "outputs": [],
   "source": [
    "train_data.to_csv(\"/Users/Admin/Documents/Study/DeepFashion2/final/train.csv\", index=False)\n",
    "test_data.to_csv(\"/Users/Admin/Documents/Study/DeepFashion2/final/test.csv\", index=False)\n"
   ]
  },
  {
   "cell_type": "code",
   "execution_count": 77,
   "metadata": {},
   "outputs": [
    {
     "name": "stderr",
     "output_type": "stream",
     "text": [
      "/usr/local/lib/python3.7/site-packages/ipykernel_launcher.py:1: SettingWithCopyWarning: \n",
      "A value is trying to be set on a copy of a slice from a DataFrame.\n",
      "Try using .loc[row_indexer,col_indexer] = value instead\n",
      "\n",
      "See the caveats in the documentation: http://pandas.pydata.org/pandas-docs/stable/indexing.html#indexing-view-versus-copy\n",
      "  \"\"\"Entry point for launching an IPython kernel.\n",
      "/usr/local/lib/python3.7/site-packages/ipykernel_launcher.py:2: SettingWithCopyWarning: \n",
      "A value is trying to be set on a copy of a slice from a DataFrame.\n",
      "Try using .loc[row_indexer,col_indexer] = value instead\n",
      "\n",
      "See the caveats in the documentation: http://pandas.pydata.org/pandas-docs/stable/indexing.html#indexing-view-versus-copy\n",
      "  \n",
      "/usr/local/lib/python3.7/site-packages/ipykernel_launcher.py:3: SettingWithCopyWarning: \n",
      "A value is trying to be set on a copy of a slice from a DataFrame.\n",
      "Try using .loc[row_indexer,col_indexer] = value instead\n",
      "\n",
      "See the caveats in the documentation: http://pandas.pydata.org/pandas-docs/stable/indexing.html#indexing-view-versus-copy\n",
      "  This is separate from the ipykernel package so we can avoid doing imports until\n",
      "/usr/local/lib/python3.7/site-packages/ipykernel_launcher.py:4: SettingWithCopyWarning: \n",
      "A value is trying to be set on a copy of a slice from a DataFrame.\n",
      "Try using .loc[row_indexer,col_indexer] = value instead\n",
      "\n",
      "See the caveats in the documentation: http://pandas.pydata.org/pandas-docs/stable/indexing.html#indexing-view-versus-copy\n",
      "  after removing the cwd from sys.path.\n"
     ]
    },
    {
     "data": {
      "text/plain": [
       "image_name       object\n",
       "category_name    object\n",
       "xmin             object\n",
       "ymin             object\n",
       "xmax             object\n",
       "ymax             object\n",
       "dtype: object"
      ]
     },
     "execution_count": 77,
     "metadata": {},
     "output_type": "execute_result"
    }
   ],
   "source": [
    "train_data['xmin'] = train_data['xmin'].apply(str)\n",
    "train_data['ymin'] = train_data['ymin'].apply(str)\n",
    "train_data['xmax'] = train_data['xmax'].apply(str)\n",
    "train_data['ymax'] = train_data['ymax'].apply(str)\n",
    "\n",
    "train_data.dtypes"
   ]
  },
  {
   "cell_type": "code",
   "execution_count": 83,
   "metadata": {},
   "outputs": [],
   "source": [
    "## Convert the annotations to text file required by faster r-cnn implementation\n",
    "\n",
    "data = pd.DataFrame()\n",
    "data['format'] = train_data['image_name']\n",
    "\n",
    "# as the images are in train_images folder, add train_images before the image name\n",
    "data['format'] = 'train/' + data['format']\n",
    "\n",
    "# add xmin, ymin, xmax, ymax and class as per the format required\n",
    "\n",
    "data['format'] = data['format'] + ',' + train_data['xmin'] + ',' + train_data['ymin'] + ',' + train_data['xmax'] + ',' + train_data['ymax'] + ',' + train_data['category_name']\n",
    "\n",
    "data.to_csv('/Users/Admin/Documents/Study/DeepFashion2/final/annotate.txt', header=None, index=None, sep=' ')\n"
   ]
  },
  {
   "cell_type": "code",
   "execution_count": null,
   "metadata": {},
   "outputs": [],
   "source": []
  }
 ],
 "metadata": {
  "kernelspec": {
   "display_name": "Python 3",
   "language": "python",
   "name": "python3"
  },
  "language_info": {
   "codemirror_mode": {
    "name": "ipython",
    "version": 3
   },
   "file_extension": ".py",
   "mimetype": "text/x-python",
   "name": "python",
   "nbconvert_exporter": "python",
   "pygments_lexer": "ipython3",
   "version": "3.7.2"
  }
 },
 "nbformat": 4,
 "nbformat_minor": 2
}
